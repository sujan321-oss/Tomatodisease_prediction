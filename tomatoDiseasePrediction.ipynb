{
 "cells": [
  {
   "cell_type": "code",
   "execution_count": 347,
   "id": "85c4cb22",
   "metadata": {},
   "outputs": [],
   "source": [
    "import pandas as pd\n",
    "import matplotlib.pyplot as plt \n",
    "import seaborn as sns \n",
    "import tensorflow as tf\n",
    "from tensorflow.keras.layers import *\n",
    "from tensorflow.keras import Sequential\n",
    "from tensorflow.keras.layers import Dense,Flatten,Conv2D,MaxPooling2D,Dropout\n",
    "from tensorflow.keras.preprocessing.image import ImageDataGenerator\n",
    "from tensorflow.keras import utils\n",
    "\n",
    "\n"
   ]
  },
  {
   "cell_type": "code",
   "execution_count": 226,
   "id": "f1a0f558",
   "metadata": {},
   "outputs": [],
   "source": [
    "# train_data=utils.image_dataset_from_directory(\n",
    "#     directory=\"/Users/khumapokharel/Desktop/deepLearning/tomatodiseaseprediction/finalcollegetoamtodiseaseprediction/Dataset/train\",\n",
    "#     labels='inferred',\n",
    "#     label_mode='categorical',\n",
    "#     batch_size=1,\n",
    "#     image_size=(200,200),\n",
    "# )"
   ]
  },
  {
   "cell_type": "code",
   "execution_count": 227,
   "id": "ffa0db92",
   "metadata": {},
   "outputs": [],
   "source": [
    "# test_data=utils.image_dataset_from_directory(\n",
    "#     directory=\"/Users/khumapokharel/Desktop/deepLearning/tomatodiseaseprediction/finalcollegetoamtodiseaseprediction/Dataset/val\",\n",
    "#     image_size=(200,200),\n",
    "#     labels='inferred',\n",
    "#     label_mode='categorical',\n",
    "#     batch_size=1,\n",
    "    \n",
    "  \n",
    "# )\n"
   ]
  },
  {
   "cell_type": "code",
   "execution_count": 228,
   "id": "a1e89f28",
   "metadata": {},
   "outputs": [],
   "source": [
    "# def process(img,labels): \n",
    "#     tf.cast(img/255,tf.float32)\n",
    "#     return img,labels\n",
    "\n"
   ]
  },
  {
   "cell_type": "code",
   "execution_count": 229,
   "id": "e90ba59e",
   "metadata": {},
   "outputs": [],
   "source": [
    "# train_data=train_data.map(process)\n",
    "# test_data=test_data.map(process)"
   ]
  },
  {
   "cell_type": "code",
   "execution_count": null,
   "id": "bd84c354",
   "metadata": {},
   "outputs": [],
   "source": []
  },
  {
   "cell_type": "code",
   "execution_count": 324,
   "id": "4c789453",
   "metadata": {},
   "outputs": [],
   "source": [
    "\n",
    "train_images=ImageDataGenerator(\n",
    "    rescale=1./255,\n",
    "    shear_range=0.2,\n",
    "    zoom_range=0.2,\n",
    "    horizontal_flip=True,\n",
    "    \n",
    "    \n",
    ")\n",
    "validation_datagen=ImageDataGenerator(\n",
    "    rescale=1./255,\n",
    "    shear_range=0.2,\n",
    "    zoom_range=0.2,\n",
    "    horizontal_flip=True,)\n",
    "\n",
    "\n",
    "\n",
    "\n"
   ]
  },
  {
   "cell_type": "code",
   "execution_count": 325,
   "id": "35016012",
   "metadata": {},
   "outputs": [
    {
     "name": "stdout",
     "output_type": "stream",
     "text": [
      "Found 143 images belonging to 10 classes.\n"
     ]
    }
   ],
   "source": [
    "train_data=train_images.flow_from_directory(\n",
    "    directory=\"/Users/khumapokharel/Desktop/deepLearning/tomatodiseaseprediction/finalcollegetoamtodiseaseprediction/Dataset/train\",\n",
    "    target_size=(200,200),\n",
    "    batch_size=5,\n",
    "    class_mode='categorical'\n",
    "\n",
    ")\n",
    "\n"
   ]
  },
  {
   "cell_type": "code",
   "execution_count": 326,
   "id": "80dcf923",
   "metadata": {},
   "outputs": [
    {
     "name": "stdout",
     "output_type": "stream",
     "text": [
      "Found 52 images belonging to 10 classes.\n"
     ]
    }
   ],
   "source": [
    "val_data=train_images.flow_from_directory(\n",
    "    directory=\"/Users/khumapokharel/Desktop/deepLearning/tomatodiseaseprediction/finalcollegetoamtodiseaseprediction/Dataset/val\",\n",
    "    target_size=(200,200),\n",
    "    batch_size=5,\n",
    "    class_mode='categorical'\n",
    "\n",
    ")"
   ]
  },
  {
   "cell_type": "code",
   "execution_count": 328,
   "id": "323c8883",
   "metadata": {},
   "outputs": [],
   "source": [
    "from tensorflow.keras.applications.resnet50 import ResNet50\n",
    "\n",
    "\n"
   ]
  },
  {
   "cell_type": "code",
   "execution_count": 329,
   "id": "6b9ffc2b",
   "metadata": {},
   "outputs": [],
   "source": [
    "resnet=ResNet50(\n",
    "  weights=\"imagenet\",\n",
    "  include_top=False,\n",
    "    input_shape=(200,200,3),\n",
    "\n",
    ")\n"
   ]
  },
  {
   "cell_type": "code",
   "execution_count": 330,
   "id": "f24f0df9",
   "metadata": {},
   "outputs": [],
   "source": [
    "resnet.trainable=False\n",
    "\n"
   ]
  },
  {
   "cell_type": "code",
   "execution_count": 307,
   "id": "4bc95252",
   "metadata": {},
   "outputs": [],
   "source": [
    "# resnet.summary()\n"
   ]
  },
  {
   "cell_type": "code",
   "execution_count": 355,
   "id": "1e1b6bd5",
   "metadata": {},
   "outputs": [],
   "source": [
    "# model=Sequential()\n",
    "# model.add(resnet)\n",
    "# model.add(Flatten())\n",
    "\n",
    "# model.add(Dense(512,activation='relu'))\n",
    "# model.add(Dropout(0.5))\n",
    "\n",
    "# model.add(Dense(512,activation='relu'))\n",
    "# model.add(Dropout(0.5))\n",
    "# model.add(Dense(512,activation='relu'))\n",
    "# model.add(Dropout(0.5))\n",
    "# model.add(Dense(10,activation='softmax'))\n",
    "\n"
   ]
  },
  {
   "cell_type": "code",
   "execution_count": 354,
   "id": "fea3b732",
   "metadata": {},
   "outputs": [],
   "source": [
    "# model.compile(optimizer='adam',metrics=['accuracy'],loss='categorical_crossentropy')\n"
   ]
  },
  {
   "cell_type": "code",
   "execution_count": 353,
   "id": "e704ea90",
   "metadata": {},
   "outputs": [],
   "source": [
    "# model.fit(train_data,validation_data=val_data,epochs=10)\n",
    "\n"
   ]
  },
  {
   "cell_type": "code",
   "execution_count": 363,
   "id": "9d87e507",
   "metadata": {},
   "outputs": [],
   "source": [
    "model=Sequential()\n",
    "model.add(Conv2D(128,activation='relu',kernel_size=(3,3),padding='valid',input_shape=(200,200,3)))\n",
    "model.add(BatchNormalization())\n",
    "model.add(MaxPooling2D(pool_size=(2,2),padding='valid'))\n",
    "\n",
    "model.add(Conv2D(64,activation='relu',kernel_size=(3,3),padding='valid'))\n",
    "model.add(BatchNormalization())\n",
    "model.add(MaxPooling2D(strides=1,pool_size=(2,2),padding='valid'))\n",
    "\n",
    "model.add(Conv2D(32,activation='relu',kernel_size=(3,3),padding='same'))\n",
    "# model.add(BatchNormalization())\n",
    "# model.add(MaxPooling2D(strides=1,pool_size=(2,2),padding='valid'))\n",
    "\n",
    "\n",
    "model.add(Flatten())\n",
    "\n",
    "model.add(Dense(512,activation='relu'))\n",
    "model.add(Dropout(0.2))\n",
    "model.add(Dense(128,activation='relu'))\n",
    "model.add(Dropout(0.2))\n",
    "model.add(Dense(64,activation='relu'))\n",
    "model.add(Dropout(0.2))\n",
    "model.add(Dense(10,activation='softmax'))"
   ]
  },
  {
   "cell_type": "code",
   "execution_count": 364,
   "id": "d9876546",
   "metadata": {},
   "outputs": [],
   "source": [
    "model.compile(optimizer='adam',metrics=['accuracy'],loss='categorical_crossentropy')\n",
    "\n"
   ]
  },
  {
   "cell_type": "code",
   "execution_count": 365,
   "id": "96c51712",
   "metadata": {},
   "outputs": [
    {
     "name": "stdout",
     "output_type": "stream",
     "text": [
      "Epoch 1/2\n",
      "29/29 [==============================] - 11s 346ms/step - loss: 34.4025 - accuracy: 0.0839 - val_loss: 2.3244 - val_accuracy: 0.0385\n",
      "Epoch 2/2\n",
      "29/29 [==============================] - 9s 307ms/step - loss: 4.2987 - accuracy: 0.1189 - val_loss: 2.3025 - val_accuracy: 0.0962\n"
     ]
    },
    {
     "data": {
      "text/plain": [
       "<keras.callbacks.History at 0x287193f40>"
      ]
     },
     "execution_count": 365,
     "metadata": {},
     "output_type": "execute_result"
    }
   ],
   "source": [
    "model.fit(train_data,validation_data=val_data,epochs=2)"
   ]
  },
  {
   "cell_type": "code",
   "execution_count": 378,
   "id": "7a0983fd",
   "metadata": {},
   "outputs": [],
   "source": [
    "classifier = Sequential()\n",
    "\n",
    "# Step 1 - Convolution\n",
    "classifier.add(Conv2D(32, (3, 3), input_shape = (200,200 , 3), activation = 'relu',padding='same'))\n",
    "\n",
    "# Step 2 - Pooling\n",
    "classifier.add(MaxPooling2D(pool_size = (2, 2)))\n",
    "\n",
    "# Adding a second convolutional layer\n",
    "classifier.add(Conv2D(32, (3, 3), activation = 'relu',padding='same'))\n",
    "classifier.add(MaxPooling2D(pool_size = (2, 2)))\n",
    "\n",
    "# Step 3 - Flattening\n",
    "classifier.add(Flatten())\n",
    "\n",
    "# Step 4 - Full connection\n",
    "classifier.add(Dense(units = 128, activation = 'relu'))\n",
    "classifier.add(Dropout(0.2))\n",
    "classifier.add(Dense(units = 10, activation = 'softmax'))\n",
    "# classifier.add(Dropout(0.2))\n",
    "\n",
    "# Compiling the CNN\n",
    "classifier.compile(optimizer = 'adam', loss = 'categorical_crossentropy', metrics = ['accuracy'])"
   ]
  },
  {
   "cell_type": "code",
   "execution_count": 379,
   "id": "1e637408",
   "metadata": {},
   "outputs": [
    {
     "name": "stdout",
     "output_type": "stream",
     "text": [
      "Epoch 1/20\n",
      "29/29 [==============================] - 3s 80ms/step - loss: 4.2155 - accuracy: 0.0909 - val_loss: 2.3010 - val_accuracy: 0.1346\n",
      "Epoch 2/20\n",
      "29/29 [==============================] - 2s 52ms/step - loss: 2.3050 - accuracy: 0.0979 - val_loss: 2.3004 - val_accuracy: 0.0962\n",
      "Epoch 3/20\n",
      "29/29 [==============================] - 2s 51ms/step - loss: 2.3083 - accuracy: 0.1329 - val_loss: 2.2991 - val_accuracy: 0.1538\n",
      "Epoch 4/20\n",
      "29/29 [==============================] - 1s 51ms/step - loss: 2.3010 - accuracy: 0.1049 - val_loss: 2.3009 - val_accuracy: 0.1346\n",
      "Epoch 5/20\n",
      "29/29 [==============================] - 1s 51ms/step - loss: 2.3019 - accuracy: 0.1259 - val_loss: 2.2935 - val_accuracy: 0.2500\n",
      "Epoch 6/20\n",
      "29/29 [==============================] - 1s 51ms/step - loss: 2.2839 - accuracy: 0.1538 - val_loss: 2.2788 - val_accuracy: 0.1346\n",
      "Epoch 7/20\n",
      "29/29 [==============================] - 2s 51ms/step - loss: 2.2702 - accuracy: 0.2168 - val_loss: 2.2693 - val_accuracy: 0.2500\n",
      "Epoch 8/20\n",
      "29/29 [==============================] - 1s 50ms/step - loss: 2.2087 - accuracy: 0.2448 - val_loss: 2.1700 - val_accuracy: 0.2115\n",
      "Epoch 9/20\n",
      "29/29 [==============================] - 1s 50ms/step - loss: 2.0765 - accuracy: 0.3357 - val_loss: 2.1847 - val_accuracy: 0.3077\n",
      "Epoch 10/20\n",
      "29/29 [==============================] - 1s 50ms/step - loss: 1.9892 - accuracy: 0.3427 - val_loss: 2.1993 - val_accuracy: 0.2308\n",
      "Epoch 11/20\n",
      "29/29 [==============================] - 1s 51ms/step - loss: 1.7988 - accuracy: 0.4266 - val_loss: 2.3205 - val_accuracy: 0.1923\n",
      "Epoch 12/20\n",
      "29/29 [==============================] - 1s 50ms/step - loss: 1.6945 - accuracy: 0.4476 - val_loss: 2.3761 - val_accuracy: 0.2308\n",
      "Epoch 13/20\n",
      "29/29 [==============================] - 1s 51ms/step - loss: 1.4868 - accuracy: 0.5035 - val_loss: 2.3001 - val_accuracy: 0.2885\n",
      "Epoch 14/20\n",
      "29/29 [==============================] - 2s 52ms/step - loss: 1.3094 - accuracy: 0.6084 - val_loss: 2.3487 - val_accuracy: 0.2692\n",
      "Epoch 15/20\n",
      "29/29 [==============================] - 1s 50ms/step - loss: 1.3427 - accuracy: 0.5524 - val_loss: 2.2179 - val_accuracy: 0.3654\n",
      "Epoch 16/20\n",
      "29/29 [==============================] - 1s 50ms/step - loss: 0.9854 - accuracy: 0.6853 - val_loss: 2.4312 - val_accuracy: 0.3462\n",
      "Epoch 17/20\n",
      "29/29 [==============================] - 1s 50ms/step - loss: 0.9480 - accuracy: 0.6993 - val_loss: 2.2303 - val_accuracy: 0.3462\n",
      "Epoch 18/20\n",
      "29/29 [==============================] - 1s 50ms/step - loss: 0.9739 - accuracy: 0.7273 - val_loss: 2.6692 - val_accuracy: 0.4231\n",
      "Epoch 19/20\n",
      "29/29 [==============================] - 1s 50ms/step - loss: 0.8528 - accuracy: 0.7483 - val_loss: 2.5498 - val_accuracy: 0.4808\n",
      "Epoch 20/20\n",
      "29/29 [==============================] - 1s 50ms/step - loss: 0.7066 - accuracy: 0.8112 - val_loss: 2.6417 - val_accuracy: 0.3846\n"
     ]
    },
    {
     "data": {
      "text/plain": [
       "<keras.callbacks.History at 0x32fec1270>"
      ]
     },
     "execution_count": 379,
     "metadata": {},
     "output_type": "execute_result"
    }
   ],
   "source": [
    "classifier.fit(train_data,validation_data=val_data,epochs=20)"
   ]
  },
  {
   "cell_type": "code",
   "execution_count": null,
   "id": "e4705e39",
   "metadata": {},
   "outputs": [],
   "source": []
  },
  {
   "cell_type": "code",
   "execution_count": null,
   "id": "353f6ca3",
   "metadata": {},
   "outputs": [],
   "source": []
  },
  {
   "cell_type": "code",
   "execution_count": null,
   "id": "971d9470",
   "metadata": {},
   "outputs": [],
   "source": [
    "\n"
   ]
  },
  {
   "cell_type": "code",
   "execution_count": null,
   "id": "c910c054",
   "metadata": {},
   "outputs": [],
   "source": []
  },
  {
   "cell_type": "code",
   "execution_count": null,
   "id": "1d377ae7",
   "metadata": {},
   "outputs": [],
   "source": []
  },
  {
   "cell_type": "code",
   "execution_count": null,
   "id": "4bdcc768",
   "metadata": {},
   "outputs": [],
   "source": []
  },
  {
   "cell_type": "code",
   "execution_count": null,
   "id": "050faa90",
   "metadata": {},
   "outputs": [],
   "source": []
  },
  {
   "cell_type": "code",
   "execution_count": null,
   "id": "70a7c475",
   "metadata": {},
   "outputs": [],
   "source": []
  }
 ],
 "metadata": {
  "kernelspec": {
   "display_name": "Python 3 (ipykernel)",
   "language": "python",
   "name": "python3"
  },
  "language_info": {
   "codemirror_mode": {
    "name": "ipython",
    "version": 3
   },
   "file_extension": ".py",
   "mimetype": "text/x-python",
   "name": "python",
   "nbconvert_exporter": "python",
   "pygments_lexer": "ipython3",
   "version": "3.10.9"
  }
 },
 "nbformat": 4,
 "nbformat_minor": 5
}
